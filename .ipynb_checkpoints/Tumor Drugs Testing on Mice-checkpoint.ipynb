{
 "cells": [
  {
   "cell_type": "markdown",
   "id": "64797765",
   "metadata": {},
   "source": [
    "# Exploring dataset of tumor drug testing in mice"
   ]
  },
  {
   "cell_type": "code",
   "execution_count": 1,
   "id": "09d415fb",
   "metadata": {},
   "outputs": [],
   "source": [
    "import os\n",
    "import scipy\n",
    "import numpy as np\n",
    "import pandas as pd\n",
    "\n",
    "# visualization\n",
    "import seaborn as sns\n",
    "import matplotlib.pyplot as plt\n",
    "\n",
    "CSV_PATH_DATA = os.path.join(os.getcwd(), 'dataset', 'Mouse_metadata.csv')\n",
    "CSV_PATH_RESULT = os.path.join(os.getcwd(), 'dataset', 'Study_results.csv')\n",
    "\n",
    "#dataloading\n",
    "data = pd.read_csv(CSV_PATH_DATA)\n",
    "result = pd.read_csv(CSV_PATH_RESULT)\n",
    "\n",
    "#data has 248 rows x 5\n",
    "#result has 1893 rows x 4 -> remove dups : 1880 rows"
   ]
  },
  {
   "cell_type": "code",
   "execution_count": 2,
   "id": "f42b733d",
   "metadata": {},
   "outputs": [
    {
     "name": "stdout",
     "output_type": "stream",
     "text": [
      "(249, 5)\n",
      "Index(['Mouse ID', 'Drug Regimen', 'Sex', 'Age_months', 'Weight (g)'], dtype='object')\n"
     ]
    },
    {
     "data": {
      "text/html": [
       "<div>\n",
       "<style scoped>\n",
       "    .dataframe tbody tr th:only-of-type {\n",
       "        vertical-align: middle;\n",
       "    }\n",
       "\n",
       "    .dataframe tbody tr th {\n",
       "        vertical-align: top;\n",
       "    }\n",
       "\n",
       "    .dataframe thead th {\n",
       "        text-align: right;\n",
       "    }\n",
       "</style>\n",
       "<table border=\"1\" class=\"dataframe\">\n",
       "  <thead>\n",
       "    <tr style=\"text-align: right;\">\n",
       "      <th></th>\n",
       "      <th>Mouse ID</th>\n",
       "      <th>Drug Regimen</th>\n",
       "      <th>Sex</th>\n",
       "      <th>Age_months</th>\n",
       "      <th>Weight (g)</th>\n",
       "    </tr>\n",
       "  </thead>\n",
       "  <tbody>\n",
       "    <tr>\n",
       "      <th>0</th>\n",
       "      <td>k403</td>\n",
       "      <td>Ramicane</td>\n",
       "      <td>Male</td>\n",
       "      <td>21</td>\n",
       "      <td>16</td>\n",
       "    </tr>\n",
       "    <tr>\n",
       "      <th>1</th>\n",
       "      <td>s185</td>\n",
       "      <td>Capomulin</td>\n",
       "      <td>Female</td>\n",
       "      <td>3</td>\n",
       "      <td>17</td>\n",
       "    </tr>\n",
       "    <tr>\n",
       "      <th>2</th>\n",
       "      <td>x401</td>\n",
       "      <td>Capomulin</td>\n",
       "      <td>Female</td>\n",
       "      <td>16</td>\n",
       "      <td>15</td>\n",
       "    </tr>\n",
       "  </tbody>\n",
       "</table>\n",
       "</div>"
      ],
      "text/plain": [
       "  Mouse ID Drug Regimen     Sex  Age_months  Weight (g)\n",
       "0     k403     Ramicane    Male          21          16\n",
       "1     s185    Capomulin  Female           3          17\n",
       "2     x401    Capomulin  Female          16          15"
      ]
     },
     "execution_count": 2,
     "metadata": {},
     "output_type": "execute_result"
    }
   ],
   "source": [
    "print(data.shape)\n",
    "print(data.columns)\n",
    "data.head(3)"
   ]
  },
  {
   "cell_type": "code",
   "execution_count": 3,
   "id": "51d50c1f",
   "metadata": {},
   "outputs": [
    {
     "name": "stdout",
     "output_type": "stream",
     "text": [
      "(1893, 4)\n",
      "Index(['Mouse ID', 'Timepoint', 'Tumor Volume (mm3)', 'Metastatic Sites'], dtype='object')\n"
     ]
    },
    {
     "data": {
      "text/html": [
       "<div>\n",
       "<style scoped>\n",
       "    .dataframe tbody tr th:only-of-type {\n",
       "        vertical-align: middle;\n",
       "    }\n",
       "\n",
       "    .dataframe tbody tr th {\n",
       "        vertical-align: top;\n",
       "    }\n",
       "\n",
       "    .dataframe thead th {\n",
       "        text-align: right;\n",
       "    }\n",
       "</style>\n",
       "<table border=\"1\" class=\"dataframe\">\n",
       "  <thead>\n",
       "    <tr style=\"text-align: right;\">\n",
       "      <th></th>\n",
       "      <th>Mouse ID</th>\n",
       "      <th>Timepoint</th>\n",
       "      <th>Tumor Volume (mm3)</th>\n",
       "      <th>Metastatic Sites</th>\n",
       "    </tr>\n",
       "  </thead>\n",
       "  <tbody>\n",
       "    <tr>\n",
       "      <th>0</th>\n",
       "      <td>b128</td>\n",
       "      <td>0</td>\n",
       "      <td>45.0</td>\n",
       "      <td>0</td>\n",
       "    </tr>\n",
       "    <tr>\n",
       "      <th>1</th>\n",
       "      <td>f932</td>\n",
       "      <td>0</td>\n",
       "      <td>45.0</td>\n",
       "      <td>0</td>\n",
       "    </tr>\n",
       "    <tr>\n",
       "      <th>2</th>\n",
       "      <td>g107</td>\n",
       "      <td>0</td>\n",
       "      <td>45.0</td>\n",
       "      <td>0</td>\n",
       "    </tr>\n",
       "  </tbody>\n",
       "</table>\n",
       "</div>"
      ],
      "text/plain": [
       "  Mouse ID  Timepoint  Tumor Volume (mm3)  Metastatic Sites\n",
       "0     b128          0                45.0                 0\n",
       "1     f932          0                45.0                 0\n",
       "2     g107          0                45.0                 0"
      ]
     },
     "execution_count": 3,
     "metadata": {},
     "output_type": "execute_result"
    }
   ],
   "source": [
    "print(result.shape)\n",
    "print(result.columns)\n",
    "result.head(3)"
   ]
  },
  {
   "cell_type": "markdown",
   "id": "93e29850",
   "metadata": {},
   "source": [
    "#### Removing the mouse with duplicated timepoints and removing any data associated with that mouse"
   ]
  },
  {
   "cell_type": "code",
   "execution_count": 4,
   "id": "7f0cbb68",
   "metadata": {},
   "outputs": [
    {
     "data": {
      "text/html": [
       "<div>\n",
       "<style scoped>\n",
       "    .dataframe tbody tr th:only-of-type {\n",
       "        vertical-align: middle;\n",
       "    }\n",
       "\n",
       "    .dataframe tbody tr th {\n",
       "        vertical-align: top;\n",
       "    }\n",
       "\n",
       "    .dataframe thead th {\n",
       "        text-align: right;\n",
       "    }\n",
       "</style>\n",
       "<table border=\"1\" class=\"dataframe\">\n",
       "  <thead>\n",
       "    <tr style=\"text-align: right;\">\n",
       "      <th></th>\n",
       "      <th>Mouse ID</th>\n",
       "      <th>Timepoint</th>\n",
       "      <th>Tumor Volume (mm3)</th>\n",
       "      <th>Metastatic Sites</th>\n",
       "    </tr>\n",
       "  </thead>\n",
       "  <tbody>\n",
       "    <tr>\n",
       "      <th>137</th>\n",
       "      <td>g989</td>\n",
       "      <td>0</td>\n",
       "      <td>45.000000</td>\n",
       "      <td>0</td>\n",
       "    </tr>\n",
       "    <tr>\n",
       "      <th>360</th>\n",
       "      <td>g989</td>\n",
       "      <td>5</td>\n",
       "      <td>47.570392</td>\n",
       "      <td>0</td>\n",
       "    </tr>\n",
       "    <tr>\n",
       "      <th>681</th>\n",
       "      <td>g989</td>\n",
       "      <td>10</td>\n",
       "      <td>49.880528</td>\n",
       "      <td>0</td>\n",
       "    </tr>\n",
       "    <tr>\n",
       "      <th>869</th>\n",
       "      <td>g989</td>\n",
       "      <td>15</td>\n",
       "      <td>53.442020</td>\n",
       "      <td>0</td>\n",
       "    </tr>\n",
       "    <tr>\n",
       "      <th>1111</th>\n",
       "      <td>g989</td>\n",
       "      <td>20</td>\n",
       "      <td>54.657650</td>\n",
       "      <td>1</td>\n",
       "    </tr>\n",
       "  </tbody>\n",
       "</table>\n",
       "</div>"
      ],
      "text/plain": [
       "     Mouse ID  Timepoint  Tumor Volume (mm3)  Metastatic Sites\n",
       "137      g989          0           45.000000                 0\n",
       "360      g989          5           47.570392                 0\n",
       "681      g989         10           49.880528                 0\n",
       "869      g989         15           53.442020                 0\n",
       "1111     g989         20           54.657650                 1"
      ]
     },
     "execution_count": 4,
     "metadata": {},
     "output_type": "execute_result"
    }
   ],
   "source": [
    "dups = result[result.duplicated([\"Mouse ID\",\"Timepoint\"])] #dfObj[dfObj.duplicated(['Age', 'City'])]\n",
    "dups\n",
    "# Mouse ID g989 has duplicated values"
   ]
  },
  {
   "cell_type": "code",
   "execution_count": 5,
   "id": "d4d90601",
   "metadata": {},
   "outputs": [],
   "source": [
    "result = result.drop_duplicates(subset=[\"Mouse ID\",\"Timepoint\"])"
   ]
  },
  {
   "cell_type": "code",
   "execution_count": 6,
   "id": "7c1c2d8a",
   "metadata": {},
   "outputs": [
    {
     "data": {
      "text/html": [
       "<div>\n",
       "<style scoped>\n",
       "    .dataframe tbody tr th:only-of-type {\n",
       "        vertical-align: middle;\n",
       "    }\n",
       "\n",
       "    .dataframe tbody tr th {\n",
       "        vertical-align: top;\n",
       "    }\n",
       "\n",
       "    .dataframe thead th {\n",
       "        text-align: right;\n",
       "    }\n",
       "</style>\n",
       "<table border=\"1\" class=\"dataframe\">\n",
       "  <thead>\n",
       "    <tr style=\"text-align: right;\">\n",
       "      <th></th>\n",
       "      <th>Mouse ID</th>\n",
       "      <th>Timepoint</th>\n",
       "      <th>Tumor Volume (mm3)</th>\n",
       "      <th>Metastatic Sites</th>\n",
       "    </tr>\n",
       "  </thead>\n",
       "  <tbody>\n",
       "    <tr>\n",
       "      <th>0</th>\n",
       "      <td>b128</td>\n",
       "      <td>0</td>\n",
       "      <td>45.000000</td>\n",
       "      <td>0</td>\n",
       "    </tr>\n",
       "    <tr>\n",
       "      <th>1</th>\n",
       "      <td>f932</td>\n",
       "      <td>0</td>\n",
       "      <td>45.000000</td>\n",
       "      <td>0</td>\n",
       "    </tr>\n",
       "    <tr>\n",
       "      <th>2</th>\n",
       "      <td>g107</td>\n",
       "      <td>0</td>\n",
       "      <td>45.000000</td>\n",
       "      <td>0</td>\n",
       "    </tr>\n",
       "    <tr>\n",
       "      <th>3</th>\n",
       "      <td>a457</td>\n",
       "      <td>0</td>\n",
       "      <td>45.000000</td>\n",
       "      <td>0</td>\n",
       "    </tr>\n",
       "    <tr>\n",
       "      <th>4</th>\n",
       "      <td>c819</td>\n",
       "      <td>0</td>\n",
       "      <td>45.000000</td>\n",
       "      <td>0</td>\n",
       "    </tr>\n",
       "    <tr>\n",
       "      <th>...</th>\n",
       "      <td>...</td>\n",
       "      <td>...</td>\n",
       "      <td>...</td>\n",
       "      <td>...</td>\n",
       "    </tr>\n",
       "    <tr>\n",
       "      <th>1888</th>\n",
       "      <td>r944</td>\n",
       "      <td>45</td>\n",
       "      <td>41.581521</td>\n",
       "      <td>2</td>\n",
       "    </tr>\n",
       "    <tr>\n",
       "      <th>1889</th>\n",
       "      <td>u364</td>\n",
       "      <td>45</td>\n",
       "      <td>31.023923</td>\n",
       "      <td>3</td>\n",
       "    </tr>\n",
       "    <tr>\n",
       "      <th>1890</th>\n",
       "      <td>p438</td>\n",
       "      <td>45</td>\n",
       "      <td>61.433892</td>\n",
       "      <td>1</td>\n",
       "    </tr>\n",
       "    <tr>\n",
       "      <th>1891</th>\n",
       "      <td>x773</td>\n",
       "      <td>45</td>\n",
       "      <td>58.634971</td>\n",
       "      <td>4</td>\n",
       "    </tr>\n",
       "    <tr>\n",
       "      <th>1892</th>\n",
       "      <td>b879</td>\n",
       "      <td>45</td>\n",
       "      <td>72.555239</td>\n",
       "      <td>2</td>\n",
       "    </tr>\n",
       "  </tbody>\n",
       "</table>\n",
       "<p>1888 rows × 4 columns</p>\n",
       "</div>"
      ],
      "text/plain": [
       "     Mouse ID  Timepoint  Tumor Volume (mm3)  Metastatic Sites\n",
       "0        b128          0           45.000000                 0\n",
       "1        f932          0           45.000000                 0\n",
       "2        g107          0           45.000000                 0\n",
       "3        a457          0           45.000000                 0\n",
       "4        c819          0           45.000000                 0\n",
       "...       ...        ...                 ...               ...\n",
       "1888     r944         45           41.581521                 2\n",
       "1889     u364         45           31.023923                 3\n",
       "1890     p438         45           61.433892                 1\n",
       "1891     x773         45           58.634971                 4\n",
       "1892     b879         45           72.555239                 2\n",
       "\n",
       "[1888 rows x 4 columns]"
      ]
     },
     "execution_count": 6,
     "metadata": {},
     "output_type": "execute_result"
    }
   ],
   "source": [
    "result"
   ]
  },
  {
   "cell_type": "code",
   "execution_count": 7,
   "id": "3e38d174",
   "metadata": {},
   "outputs": [],
   "source": [
    "#Making sure to remove all data associated with mouse g989\n",
    "\n",
    "result = result[result[\"Mouse ID\"] != \"g989\"]\n",
    "data = data[data[\"Mouse ID\"] != \"g989\"]"
   ]
  },
  {
   "cell_type": "code",
   "execution_count": 8,
   "id": "ddc1c3a4",
   "metadata": {},
   "outputs": [
    {
     "name": "stdout",
     "output_type": "stream",
     "text": [
      "(1880, 8)\n"
     ]
    },
    {
     "data": {
      "text/html": [
       "<div>\n",
       "<style scoped>\n",
       "    .dataframe tbody tr th:only-of-type {\n",
       "        vertical-align: middle;\n",
       "    }\n",
       "\n",
       "    .dataframe tbody tr th {\n",
       "        vertical-align: top;\n",
       "    }\n",
       "\n",
       "    .dataframe thead th {\n",
       "        text-align: right;\n",
       "    }\n",
       "</style>\n",
       "<table border=\"1\" class=\"dataframe\">\n",
       "  <thead>\n",
       "    <tr style=\"text-align: right;\">\n",
       "      <th></th>\n",
       "      <th>Mouse ID</th>\n",
       "      <th>Drug Regimen</th>\n",
       "      <th>Sex</th>\n",
       "      <th>Age_months</th>\n",
       "      <th>Weight (g)</th>\n",
       "      <th>Timepoint</th>\n",
       "      <th>Tumor Volume (mm3)</th>\n",
       "      <th>Metastatic Sites</th>\n",
       "    </tr>\n",
       "  </thead>\n",
       "  <tbody>\n",
       "    <tr>\n",
       "      <th>908</th>\n",
       "      <td>h246</td>\n",
       "      <td>Ketapril</td>\n",
       "      <td>Male</td>\n",
       "      <td>13</td>\n",
       "      <td>30</td>\n",
       "      <td>0</td>\n",
       "      <td>45.000000</td>\n",
       "      <td>0</td>\n",
       "    </tr>\n",
       "    <tr>\n",
       "      <th>1038</th>\n",
       "      <td>k483</td>\n",
       "      <td>Infubinol</td>\n",
       "      <td>Female</td>\n",
       "      <td>20</td>\n",
       "      <td>30</td>\n",
       "      <td>35</td>\n",
       "      <td>60.541562</td>\n",
       "      <td>2</td>\n",
       "    </tr>\n",
       "    <tr>\n",
       "      <th>950</th>\n",
       "      <td>i669</td>\n",
       "      <td>Placebo</td>\n",
       "      <td>Female</td>\n",
       "      <td>18</td>\n",
       "      <td>27</td>\n",
       "      <td>0</td>\n",
       "      <td>45.000000</td>\n",
       "      <td>0</td>\n",
       "    </tr>\n",
       "    <tr>\n",
       "      <th>940</th>\n",
       "      <td>i635</td>\n",
       "      <td>Propriva</td>\n",
       "      <td>Male</td>\n",
       "      <td>21</td>\n",
       "      <td>26</td>\n",
       "      <td>0</td>\n",
       "      <td>45.000000</td>\n",
       "      <td>0</td>\n",
       "    </tr>\n",
       "    <tr>\n",
       "      <th>1348</th>\n",
       "      <td>p387</td>\n",
       "      <td>Stelasyn</td>\n",
       "      <td>Male</td>\n",
       "      <td>3</td>\n",
       "      <td>30</td>\n",
       "      <td>0</td>\n",
       "      <td>45.000000</td>\n",
       "      <td>0</td>\n",
       "    </tr>\n",
       "    <tr>\n",
       "      <th>682</th>\n",
       "      <td>c559</td>\n",
       "      <td>Zoniferol</td>\n",
       "      <td>Female</td>\n",
       "      <td>19</td>\n",
       "      <td>28</td>\n",
       "      <td>10</td>\n",
       "      <td>47.293260</td>\n",
       "      <td>0</td>\n",
       "    </tr>\n",
       "  </tbody>\n",
       "</table>\n",
       "</div>"
      ],
      "text/plain": [
       "     Mouse ID Drug Regimen     Sex  Age_months  Weight (g)  Timepoint  \\\n",
       "908      h246     Ketapril    Male          13          30          0   \n",
       "1038     k483    Infubinol  Female          20          30         35   \n",
       "950      i669      Placebo  Female          18          27          0   \n",
       "940      i635     Propriva    Male          21          26          0   \n",
       "1348     p387     Stelasyn    Male           3          30          0   \n",
       "682      c559    Zoniferol  Female          19          28         10   \n",
       "\n",
       "      Tumor Volume (mm3)  Metastatic Sites  \n",
       "908            45.000000                 0  \n",
       "1038           60.541562                 2  \n",
       "950            45.000000                 0  \n",
       "940            45.000000                 0  \n",
       "1348           45.000000                 0  \n",
       "682            47.293260                 0  "
      ]
     },
     "execution_count": 8,
     "metadata": {},
     "output_type": "execute_result"
    }
   ],
   "source": [
    "df3 = pd.merge(data, result, on=['Mouse ID'])\n",
    "print(df3.shape)\n",
    "df3.sample(6)"
   ]
  },
  {
   "cell_type": "markdown",
   "id": "72b12795",
   "metadata": {},
   "source": [
    "#### Exploring the merged dataframes, df3"
   ]
  },
  {
   "cell_type": "code",
   "execution_count": 9,
   "id": "fe461c5e",
   "metadata": {},
   "outputs": [
    {
     "data": {
      "text/plain": [
       "10"
      ]
     },
     "execution_count": 9,
     "metadata": {},
     "output_type": "execute_result"
    }
   ],
   "source": [
    "# Number of drugs tested\n",
    "df3[\"Drug Regimen\"].nunique()"
   ]
  },
  {
   "cell_type": "code",
   "execution_count": 10,
   "id": "1f43976d",
   "metadata": {},
   "outputs": [
    {
     "data": {
      "text/html": [
       "<div>\n",
       "<style scoped>\n",
       "    .dataframe tbody tr th:only-of-type {\n",
       "        vertical-align: middle;\n",
       "    }\n",
       "\n",
       "    .dataframe tbody tr th {\n",
       "        vertical-align: top;\n",
       "    }\n",
       "\n",
       "    .dataframe thead th {\n",
       "        text-align: right;\n",
       "    }\n",
       "</style>\n",
       "<table border=\"1\" class=\"dataframe\">\n",
       "  <thead>\n",
       "    <tr style=\"text-align: right;\">\n",
       "      <th></th>\n",
       "      <th>mean</th>\n",
       "      <th>median</th>\n",
       "      <th>var</th>\n",
       "      <th>std</th>\n",
       "      <th>sem</th>\n",
       "    </tr>\n",
       "    <tr>\n",
       "      <th>Drug Regimen</th>\n",
       "      <th></th>\n",
       "      <th></th>\n",
       "      <th></th>\n",
       "      <th></th>\n",
       "      <th></th>\n",
       "    </tr>\n",
       "  </thead>\n",
       "  <tbody>\n",
       "    <tr>\n",
       "      <th>Capomulin</th>\n",
       "      <td>40.675741</td>\n",
       "      <td>41.557809</td>\n",
       "      <td>24.947764</td>\n",
       "      <td>4.994774</td>\n",
       "      <td>0.329346</td>\n",
       "    </tr>\n",
       "    <tr>\n",
       "      <th>Ceftamin</th>\n",
       "      <td>52.591172</td>\n",
       "      <td>51.776157</td>\n",
       "      <td>39.290177</td>\n",
       "      <td>6.268188</td>\n",
       "      <td>0.469821</td>\n",
       "    </tr>\n",
       "    <tr>\n",
       "      <th>Infubinol</th>\n",
       "      <td>52.884795</td>\n",
       "      <td>51.820584</td>\n",
       "      <td>43.128684</td>\n",
       "      <td>6.567243</td>\n",
       "      <td>0.492236</td>\n",
       "    </tr>\n",
       "    <tr>\n",
       "      <th>Ketapril</th>\n",
       "      <td>55.235638</td>\n",
       "      <td>53.698743</td>\n",
       "      <td>68.553577</td>\n",
       "      <td>8.279709</td>\n",
       "      <td>0.603860</td>\n",
       "    </tr>\n",
       "    <tr>\n",
       "      <th>Naftisol</th>\n",
       "      <td>54.331565</td>\n",
       "      <td>52.509285</td>\n",
       "      <td>66.173479</td>\n",
       "      <td>8.134708</td>\n",
       "      <td>0.596466</td>\n",
       "    </tr>\n",
       "    <tr>\n",
       "      <th>Placebo</th>\n",
       "      <td>54.033581</td>\n",
       "      <td>52.288934</td>\n",
       "      <td>61.168083</td>\n",
       "      <td>7.821003</td>\n",
       "      <td>0.581331</td>\n",
       "    </tr>\n",
       "    <tr>\n",
       "      <th>Propriva</th>\n",
       "      <td>52.320930</td>\n",
       "      <td>50.446266</td>\n",
       "      <td>43.852013</td>\n",
       "      <td>6.622085</td>\n",
       "      <td>0.544332</td>\n",
       "    </tr>\n",
       "    <tr>\n",
       "      <th>Ramicane</th>\n",
       "      <td>40.216745</td>\n",
       "      <td>40.673236</td>\n",
       "      <td>23.486704</td>\n",
       "      <td>4.846308</td>\n",
       "      <td>0.320955</td>\n",
       "    </tr>\n",
       "    <tr>\n",
       "      <th>Stelasyn</th>\n",
       "      <td>54.233149</td>\n",
       "      <td>52.431737</td>\n",
       "      <td>59.450562</td>\n",
       "      <td>7.710419</td>\n",
       "      <td>0.573111</td>\n",
       "    </tr>\n",
       "    <tr>\n",
       "      <th>Zoniferol</th>\n",
       "      <td>53.236507</td>\n",
       "      <td>51.818479</td>\n",
       "      <td>48.533355</td>\n",
       "      <td>6.966589</td>\n",
       "      <td>0.516398</td>\n",
       "    </tr>\n",
       "  </tbody>\n",
       "</table>\n",
       "</div>"
      ],
      "text/plain": [
       "                   mean     median        var       std       sem\n",
       "Drug Regimen                                                     \n",
       "Capomulin     40.675741  41.557809  24.947764  4.994774  0.329346\n",
       "Ceftamin      52.591172  51.776157  39.290177  6.268188  0.469821\n",
       "Infubinol     52.884795  51.820584  43.128684  6.567243  0.492236\n",
       "Ketapril      55.235638  53.698743  68.553577  8.279709  0.603860\n",
       "Naftisol      54.331565  52.509285  66.173479  8.134708  0.596466\n",
       "Placebo       54.033581  52.288934  61.168083  7.821003  0.581331\n",
       "Propriva      52.320930  50.446266  43.852013  6.622085  0.544332\n",
       "Ramicane      40.216745  40.673236  23.486704  4.846308  0.320955\n",
       "Stelasyn      54.233149  52.431737  59.450562  7.710419  0.573111\n",
       "Zoniferol     53.236507  51.818479  48.533355  6.966589  0.516398"
      ]
     },
     "execution_count": 10,
     "metadata": {},
     "output_type": "execute_result"
    }
   ],
   "source": [
    "distribution = df3.groupby('Drug Regimen')['Tumor Volume (mm3)'].agg(['mean','median','var','std','sem'])\n",
    "distribution"
   ]
  },
  {
   "cell_type": "code",
   "execution_count": 11,
   "id": "b993bdf4",
   "metadata": {},
   "outputs": [
    {
     "data": {
      "text/html": [
       "<div>\n",
       "<style scoped>\n",
       "    .dataframe tbody tr th:only-of-type {\n",
       "        vertical-align: middle;\n",
       "    }\n",
       "\n",
       "    .dataframe tbody tr th {\n",
       "        vertical-align: top;\n",
       "    }\n",
       "\n",
       "    .dataframe thead th {\n",
       "        text-align: right;\n",
       "    }\n",
       "</style>\n",
       "<table border=\"1\" class=\"dataframe\">\n",
       "  <thead>\n",
       "    <tr style=\"text-align: right;\">\n",
       "      <th>Drug Regimen</th>\n",
       "      <th>Capomulin</th>\n",
       "      <th>Ceftamin</th>\n",
       "      <th>Infubinol</th>\n",
       "      <th>Ketapril</th>\n",
       "      <th>Naftisol</th>\n",
       "      <th>Placebo</th>\n",
       "      <th>Propriva</th>\n",
       "      <th>Ramicane</th>\n",
       "      <th>Stelasyn</th>\n",
       "      <th>Zoniferol</th>\n",
       "    </tr>\n",
       "    <tr>\n",
       "      <th>Timepoint</th>\n",
       "      <th></th>\n",
       "      <th></th>\n",
       "      <th></th>\n",
       "      <th></th>\n",
       "      <th></th>\n",
       "      <th></th>\n",
       "      <th></th>\n",
       "      <th></th>\n",
       "      <th></th>\n",
       "      <th></th>\n",
       "    </tr>\n",
       "  </thead>\n",
       "  <tbody>\n",
       "    <tr>\n",
       "      <th>0</th>\n",
       "      <td>25</td>\n",
       "      <td>25</td>\n",
       "      <td>25</td>\n",
       "      <td>25</td>\n",
       "      <td>25</td>\n",
       "      <td>25</td>\n",
       "      <td>24</td>\n",
       "      <td>25</td>\n",
       "      <td>24</td>\n",
       "      <td>25</td>\n",
       "    </tr>\n",
       "    <tr>\n",
       "      <th>5</th>\n",
       "      <td>25</td>\n",
       "      <td>21</td>\n",
       "      <td>25</td>\n",
       "      <td>23</td>\n",
       "      <td>23</td>\n",
       "      <td>24</td>\n",
       "      <td>23</td>\n",
       "      <td>25</td>\n",
       "      <td>23</td>\n",
       "      <td>24</td>\n",
       "    </tr>\n",
       "    <tr>\n",
       "      <th>10</th>\n",
       "      <td>25</td>\n",
       "      <td>20</td>\n",
       "      <td>21</td>\n",
       "      <td>22</td>\n",
       "      <td>21</td>\n",
       "      <td>24</td>\n",
       "      <td>21</td>\n",
       "      <td>24</td>\n",
       "      <td>21</td>\n",
       "      <td>22</td>\n",
       "    </tr>\n",
       "    <tr>\n",
       "      <th>15</th>\n",
       "      <td>24</td>\n",
       "      <td>19</td>\n",
       "      <td>21</td>\n",
       "      <td>19</td>\n",
       "      <td>21</td>\n",
       "      <td>20</td>\n",
       "      <td>15</td>\n",
       "      <td>24</td>\n",
       "      <td>21</td>\n",
       "      <td>21</td>\n",
       "    </tr>\n",
       "    <tr>\n",
       "      <th>20</th>\n",
       "      <td>23</td>\n",
       "      <td>18</td>\n",
       "      <td>20</td>\n",
       "      <td>19</td>\n",
       "      <td>20</td>\n",
       "      <td>19</td>\n",
       "      <td>15</td>\n",
       "      <td>23</td>\n",
       "      <td>19</td>\n",
       "      <td>17</td>\n",
       "    </tr>\n",
       "    <tr>\n",
       "      <th>25</th>\n",
       "      <td>22</td>\n",
       "      <td>18</td>\n",
       "      <td>18</td>\n",
       "      <td>19</td>\n",
       "      <td>18</td>\n",
       "      <td>17</td>\n",
       "      <td>13</td>\n",
       "      <td>23</td>\n",
       "      <td>18</td>\n",
       "      <td>16</td>\n",
       "    </tr>\n",
       "    <tr>\n",
       "      <th>30</th>\n",
       "      <td>22</td>\n",
       "      <td>16</td>\n",
       "      <td>17</td>\n",
       "      <td>18</td>\n",
       "      <td>15</td>\n",
       "      <td>15</td>\n",
       "      <td>12</td>\n",
       "      <td>23</td>\n",
       "      <td>17</td>\n",
       "      <td>15</td>\n",
       "    </tr>\n",
       "    <tr>\n",
       "      <th>35</th>\n",
       "      <td>22</td>\n",
       "      <td>14</td>\n",
       "      <td>12</td>\n",
       "      <td>17</td>\n",
       "      <td>15</td>\n",
       "      <td>14</td>\n",
       "      <td>9</td>\n",
       "      <td>21</td>\n",
       "      <td>15</td>\n",
       "      <td>14</td>\n",
       "    </tr>\n",
       "    <tr>\n",
       "      <th>40</th>\n",
       "      <td>21</td>\n",
       "      <td>14</td>\n",
       "      <td>10</td>\n",
       "      <td>15</td>\n",
       "      <td>15</td>\n",
       "      <td>12</td>\n",
       "      <td>9</td>\n",
       "      <td>20</td>\n",
       "      <td>12</td>\n",
       "      <td>14</td>\n",
       "    </tr>\n",
       "    <tr>\n",
       "      <th>45</th>\n",
       "      <td>21</td>\n",
       "      <td>13</td>\n",
       "      <td>9</td>\n",
       "      <td>11</td>\n",
       "      <td>13</td>\n",
       "      <td>11</td>\n",
       "      <td>7</td>\n",
       "      <td>20</td>\n",
       "      <td>11</td>\n",
       "      <td>14</td>\n",
       "    </tr>\n",
       "  </tbody>\n",
       "</table>\n",
       "</div>"
      ],
      "text/plain": [
       "Drug Regimen  Capomulin  Ceftamin  Infubinol  Ketapril  Naftisol  Placebo  \\\n",
       "Timepoint                                                                   \n",
       "0                    25        25         25        25        25       25   \n",
       "5                    25        21         25        23        23       24   \n",
       "10                   25        20         21        22        21       24   \n",
       "15                   24        19         21        19        21       20   \n",
       "20                   23        18         20        19        20       19   \n",
       "25                   22        18         18        19        18       17   \n",
       "30                   22        16         17        18        15       15   \n",
       "35                   22        14         12        17        15       14   \n",
       "40                   21        14         10        15        15       12   \n",
       "45                   21        13          9        11        13       11   \n",
       "\n",
       "Drug Regimen  Propriva  Ramicane  Stelasyn  Zoniferol  \n",
       "Timepoint                                              \n",
       "0                   24        25        24         25  \n",
       "5                   23        25        23         24  \n",
       "10                  21        24        21         22  \n",
       "15                  15        24        21         21  \n",
       "20                  15        23        19         17  \n",
       "25                  13        23        18         16  \n",
       "30                  12        23        17         15  \n",
       "35                   9        21        15         14  \n",
       "40                   9        20        12         14  \n",
       "45                   7        20        11         14  "
      ]
     },
     "execution_count": 11,
     "metadata": {},
     "output_type": "execute_result"
    }
   ],
   "source": [
    "# Pivot table of Mouse count \n",
    "\n",
    "df4 = pd.pivot_table(df3, values='Mouse ID', index = 'Timepoint', columns = 'Drug Regimen',aggfunc='count')\n",
    "df4\n",
    "\n",
    "# The study started with a balanced numbers of mice across all drugs tested.\n",
    "# Capomulin and Ramicane have the most number of mice at the end of the study."
   ]
  },
  {
   "cell_type": "code",
   "execution_count": 12,
   "id": "8aec06e0",
   "metadata": {},
   "outputs": [
    {
     "data": {
      "text/plain": [
       "<AxesSubplot:xlabel='Timepoint', ylabel='Drug Regimen'>"
      ]
     },
     "execution_count": 12,
     "metadata": {},
     "output_type": "execute_result"
    },
    {
     "data": {
      "image/png": "[encoded data removed]",
      "text/plain": [
       "<Figure size 432x288 with 1 Axes>"
      ]
     },
     "metadata": {
      "needs_background": "light"
     },
     "output_type": "display_data"
    }
   ],
   "source": [
    "sns.set(rc = {'figure.figsize':(15, 10)},font_scale=1.5)\n",
    "df4.plot(xticks=df4.index, ylabel='Drug Regimen')\n",
    "\n",
    "# Apart from Capomulin and Ramicane, all other drugs have less than 15 mice at the end of the study."
   ]
  },
  {
   "cell_type": "markdown",
   "id": "28db60ed",
   "metadata": {},
   "source": [
    "#### Generating a bar plot using both Pandas's DataFrame.plot() and Matplotlib's pyplot that shows the number of total mice for each treatment regimen throughout the course of the study."
   ]
  },
  {
   "cell_type": "code",
   "execution_count": 13,
   "id": "1b9cf631",
   "metadata": {},
   "outputs": [
    {
     "data": {
      "text/plain": [
       "<AxesSubplot:xlabel='Drug Regimen'>"
      ]
     },
     "execution_count": 13,
     "metadata": {},
     "output_type": "execute_result"
    },
    {
     "data": {
      "image/png": "[encoded data removed]",
      "text/plain": [
       "<Figure size 432x288 with 1 Axes>"
      ]
     },
     "metadata": {
      "needs_background": "light"
     },
     "output_type": "display_data"
    }
   ],
   "source": [
    "# Using pandas\n",
    "\n",
    "df3.groupby(by='Drug Regimen')['Mouse ID'].count().plot.bar()"
   ]
  },
  {
   "cell_type": "code",
   "execution_count": 14,
   "id": "c5216f9d",
   "metadata": {},
   "outputs": [
    {
     "data": {
      "text/html": [
       "<div>\n",
       "<style scoped>\n",
       "    .dataframe tbody tr th:only-of-type {\n",
       "        vertical-align: middle;\n",
       "    }\n",
       "\n",
       "    .dataframe tbody tr th {\n",
       "        vertical-align: top;\n",
       "    }\n",
       "\n",
       "    .dataframe thead th {\n",
       "        text-align: right;\n",
       "    }\n",
       "</style>\n",
       "<table border=\"1\" class=\"dataframe\">\n",
       "  <thead>\n",
       "    <tr style=\"text-align: right;\">\n",
       "      <th></th>\n",
       "      <th>Drug Regimen</th>\n",
       "      <th>Mouse ID</th>\n",
       "    </tr>\n",
       "  </thead>\n",
       "  <tbody>\n",
       "    <tr>\n",
       "      <th>0</th>\n",
       "      <td>Capomulin</td>\n",
       "      <td>230</td>\n",
       "    </tr>\n",
       "    <tr>\n",
       "      <th>1</th>\n",
       "      <td>Ceftamin</td>\n",
       "      <td>178</td>\n",
       "    </tr>\n",
       "    <tr>\n",
       "      <th>2</th>\n",
       "      <td>Infubinol</td>\n",
       "      <td>178</td>\n",
       "    </tr>\n",
       "    <tr>\n",
       "      <th>3</th>\n",
       "      <td>Ketapril</td>\n",
       "      <td>188</td>\n",
       "    </tr>\n",
       "    <tr>\n",
       "      <th>4</th>\n",
       "      <td>Naftisol</td>\n",
       "      <td>186</td>\n",
       "    </tr>\n",
       "    <tr>\n",
       "      <th>5</th>\n",
       "      <td>Placebo</td>\n",
       "      <td>181</td>\n",
       "    </tr>\n",
       "    <tr>\n",
       "      <th>6</th>\n",
       "      <td>Propriva</td>\n",
       "      <td>148</td>\n",
       "    </tr>\n",
       "    <tr>\n",
       "      <th>7</th>\n",
       "      <td>Ramicane</td>\n",
       "      <td>228</td>\n",
       "    </tr>\n",
       "    <tr>\n",
       "      <th>8</th>\n",
       "      <td>Stelasyn</td>\n",
       "      <td>181</td>\n",
       "    </tr>\n",
       "    <tr>\n",
       "      <th>9</th>\n",
       "      <td>Zoniferol</td>\n",
       "      <td>182</td>\n",
       "    </tr>\n",
       "  </tbody>\n",
       "</table>\n",
       "</div>"
      ],
      "text/plain": [
       "  Drug Regimen  Mouse ID\n",
       "0    Capomulin       230\n",
       "1     Ceftamin       178\n",
       "2    Infubinol       178\n",
       "3     Ketapril       188\n",
       "4     Naftisol       186\n",
       "5      Placebo       181\n",
       "6     Propriva       148\n",
       "7     Ramicane       228\n",
       "8     Stelasyn       181\n",
       "9    Zoniferol       182"
      ]
     },
     "execution_count": 14,
     "metadata": {},
     "output_type": "execute_result"
    }
   ],
   "source": [
    "# Using pyplot\n",
    "\n",
    "mice_count = df3.groupby(by='Drug Regimen')['Mouse ID'].count().reset_index() \n",
    "# a series,sorted by name of Drug # with reset_index() it will change series to df\n",
    "mice_count"
   ]
  },
  {
   "cell_type": "code",
   "execution_count": 15,
   "id": "0304590a",
   "metadata": {},
   "outputs": [
    {
     "data": {
      "image/png": "[encoded data removed]",
      "text/plain": [
       "<Figure size 720x360 with 1 Axes>"
      ]
     },
     "metadata": {
      "needs_background": "light"
     },
     "output_type": "display_data"
    }
   ],
   "source": [
    "fig, ax = plt.subplots(figsize=(10,5))\n",
    "\n",
    "ax.bar(mice_count['Drug Regimen'], mice_count['Mouse ID'])\n",
    "ax.set_xticks(mice_count['Drug Regimen'])\n",
    "ax.set_xticklabels(mice_count['Drug Regimen'],rotation=90)\n",
    "ax.set_ylabel('Number of Mice')\n",
    "ax.set_title('Number of Mice for Each Drug')\n",
    "\n",
    "plt.show()"
   ]
  },
  {
   "cell_type": "markdown",
   "id": "353e4b80",
   "metadata": {},
   "source": [
    "#### Generate a pie plot that shows the distribution of female or male mice in the study."
   ]
  },
  {
   "cell_type": "code",
   "execution_count": 16,
   "id": "5c5a9e64",
   "metadata": {},
   "outputs": [
    {
     "data": {
      "image/png": "[encoded data removed]",
      "text/plain": [
       "<Figure size 360x360 with 1 Axes>"
      ]
     },
     "metadata": {},
     "output_type": "display_data"
    },
    {
     "data": {
      "image/png": "[encoded data removed]",
      "text/plain": [
       "<Figure size 360x360 with 1 Axes>"
      ]
     },
     "metadata": {},
     "output_type": "display_data"
    }
   ],
   "source": [
    "# Using pandas\n",
    "s = df3['Sex'].value_counts()\n",
    "\n",
    "plt.title(\"Female vs. Male in Study\")\n",
    "s.plot.pie(autopct='%1.1f%%',figsize=(5, 5))\n",
    "\n",
    "# Using pyplot\n",
    "sex = df3['Sex'].value_counts()\n",
    "plt.figure(figsize=(5,5))\n",
    "plt.pie(sex, labels = sex.index, autopct='%1.0f%%') # < This will show the values with %\n",
    "plt.title('Percentages of Male vs Female Sample')\n",
    "plt.show()"
   ]
  },
  {
   "cell_type": "markdown",
   "id": "1c268691",
   "metadata": {},
   "source": [
    "#### Finding the final tumor volume of each mouse across four of the most promising treatment regimens: Capomulin, Ramicane, Infubinol, and Ceftamin. "
   ]
  },
  {
   "cell_type": "code",
   "execution_count": 17,
   "id": "ee1946cc",
   "metadata": {},
   "outputs": [],
   "source": [
    "# Making df for each drug\n",
    "df_capo = df3[df3['Drug Regimen'] == 'Capomulin']\n",
    "df_rami = df3[df3['Drug Regimen'] == 'Ramicane']\n",
    "df_infu = df3[df3['Drug Regimen'] == 'Infubinol']\n",
    "df_cef = df3[df3['Drug Regimen'] == 'Ceftamin']"
   ]
  },
  {
   "cell_type": "code",
   "execution_count": 18,
   "id": "a9d4d38d",
   "metadata": {},
   "outputs": [],
   "source": [
    "# Final tumor volume for each drug, is at the last Timepoint\n",
    "\n",
    "#Capomulin\n",
    "final_capo = df_capo.groupby('Mouse ID')['Timepoint'].max() # A series\n",
    "df_finalcapo = pd.DataFrame(final_capo) # change series to df\n",
    "capomerge = pd.merge(df_capo, df_finalcapo, on = ('Mouse ID','Timepoint'), how='right')\n",
    "#capomerge.head()# 2 cols: mouse ID & max timepoint (25,1)\n",
    "\n",
    "#Ramicane\n",
    "final_rami = df_rami.groupby('Mouse ID')['Timepoint'].max() # A series\n",
    "df_finalrami = pd.DataFrame(final_rami)\n",
    "ramimerge = pd.merge(df_rami, df_finalrami, on = ('Mouse ID','Timepoint'), how='right')\n",
    "#ramimerge.head()# 2 cols: mouse ID & max timepoint (25,1)\n",
    "\n",
    "#Infubinol\n",
    "final_infu = df_infu.groupby('Mouse ID')['Timepoint'].max() # A series\n",
    "df_finalinfu = pd.DataFrame(final_infu)\n",
    "infumerge = pd.merge(df_infu, df_finalinfu, on = ('Mouse ID','Timepoint'), how='right')\n",
    "#infumerge.head()# 2 cols: mouse ID & max timepoint (25,1)\n",
    "\n",
    "# Ceftamin\n",
    "final_cef = df_cef.groupby('Mouse ID')['Timepoint'].max() # A series\n",
    "df_finalcef = pd.DataFrame(final_cef)\n",
    "cefmerge = pd.merge(df_cef, df_finalcef, on = ('Mouse ID','Timepoint'), how='right')\n",
    "#cefmerge.head()# 2 cols: mouse ID & max timepoint (25,1)\n"
   ]
  },
  {
   "cell_type": "code",
   "execution_count": 19,
   "id": "edda0be7",
   "metadata": {},
   "outputs": [
    {
     "name": "stdout",
     "output_type": "stream",
     "text": [
      "Capomulin q1 is 32.38, q2 is 38.13, and q3 is 40.16.\n",
      "Capomulin IQR is 7.78\n",
      "\n",
      "Ramicane q1 is 31.56, q2 is 36.56, and q3 is 40.66.\n",
      "Ramicane IQR is 9.1\n",
      "\n",
      "Infubinol q1 is 54.05, q2 is 60.17, and q3 is 65.53.\n",
      "Infubiol IQR is 11.48\n",
      "\n",
      "Ceftamin q1 is 48.72, q2 is 59.85, and q3 is 64.3.\n",
      "Ramicane IQR is 15.58\n"
     ]
    }
   ],
   "source": [
    "# Finding quartile\n",
    "# quartiles:  0.25, 0.5, 0.75\n",
    "# IQR: 0.75 - 0.25\n",
    "# Outliers: 0.75 + 1.5 (Upper), 0.25 - 1.5 (lower)\n",
    "\n",
    "# Capomulin\n",
    "capo_q3 = np.quantile(capomerge['Tumor Volume (mm3)'], 0.75)\n",
    "capo_q1 = np.quantile(capomerge['Tumor Volume (mm3)'], 0.25)\n",
    "capo_q2 = np.quantile(capomerge['Tumor Volume (mm3)'], 0.5)\n",
    "print(f'Capomulin q1 is {round(capo_q1,2)}, q2 is {round(capo_q2,2)}, and q3 is {round(capo_q3,2)}.')\n",
    "\n",
    "capo_iqr = round(capo_q3 - capo_q1,2)\n",
    "print('Capomulin IQR is',capo_iqr)\n",
    "print()\n",
    "\n",
    "# Ramicane\n",
    "rami_q3 = np.quantile(ramimerge['Tumor Volume (mm3)'], 0.75)\n",
    "rami_q1 = np.quantile(ramimerge['Tumor Volume (mm3)'], 0.25)\n",
    "rami_q2 = np.quantile(ramimerge['Tumor Volume (mm3)'], 0.5)\n",
    "print(f'Ramicane q1 is {round(rami_q1,2)}, q2 is {round(rami_q2,2)}, and q3 is {round(rami_q3,2)}.')\n",
    "\n",
    "rami_iqr = round(rami_q3 - rami_q1,2)\n",
    "print('Ramicane IQR is', rami_iqr)\n",
    "print()\n",
    "\n",
    "# Infubiol\n",
    "infu_q3 = np.quantile(infumerge['Tumor Volume (mm3)'], 0.75)\n",
    "infu_q1 = np.quantile(infumerge['Tumor Volume (mm3)'], 0.25)\n",
    "infu_q2 = np.quantile(infumerge['Tumor Volume (mm3)'], 0.5)\n",
    "print(f'Infubinol q1 is {round(infu_q1,2)}, q2 is {round(infu_q2,2)}, and q3 is {round(infu_q3,2)}.')\n",
    "\n",
    "infu_iqr = infu_q3 - infu_q1\n",
    "print('Infubiol IQR is',round(infu_iqr,2))\n",
    "print()\n",
    "\n",
    "# Ceftamin\n",
    "cef_q3 = np.quantile(cefmerge['Tumor Volume (mm3)'], 0.75)\n",
    "cef_q1 = np.quantile(cefmerge['Tumor Volume (mm3)'], 0.25)\n",
    "cef_q2 = np.quantile(cefmerge['Tumor Volume (mm3)'], 0.5)\n",
    "print(f'Ceftamin q1 is {round(cef_q1,2)}, q2 is {round(cef_q2,2)}, and q3 is {round(cef_q3,2)}.')\n",
    "\n",
    "cef_iqr = cef_q3 - cef_q1\n",
    "print('Ramicane IQR is',round(cef_iqr,2))"
   ]
  },
  {
   "cell_type": "code",
   "execution_count": 20,
   "id": "267d3934",
   "metadata": {},
   "outputs": [
    {
     "name": "stdout",
     "output_type": "stream",
     "text": [
      "Capomulin lower outlier is 20.71,and its upper outlier is 44.05.\n",
      "\n",
      "Ramicane lower outlier is 17.91,and its upper outlier is 45.21.\n",
      "\n",
      "Infubinol lower outlier is 36.83,and its upper outlier is 71.26.\n",
      "\n",
      "Ceftamin lower outlier is 25.36,and its upper outlier is 72.09.\n"
     ]
    }
   ],
   "source": [
    "# Finding Outliers\n",
    "\n",
    "# Capomulin\n",
    "lower_capo = capo_q1 - 1.5 * capo_iqr\n",
    "upper_capo = capo_q1 + 1.5 * capo_iqr\n",
    "\n",
    "# Ramicane\n",
    "lower_rami = rami_q1 - 1.5 * rami_iqr\n",
    "upper_rami = rami_q1 + 1.5 * rami_iqr\n",
    "\n",
    "# Infubiol\n",
    "lower_infu = infu_q1 - 1.5 * infu_iqr\n",
    "upper_infu = infu_q1 + 1.5 * infu_iqr\n",
    "\n",
    "# Ceftamin\n",
    "lower_cef = cef_q1 - 1.5 * cef_iqr\n",
    "upper_cef = cef_q1 + 1.5 * cef_iqr\n",
    "\n",
    "print(f'Capomulin lower outlier is {round(lower_capo,2)},and its upper outlier is {round(upper_capo,2)}.\\n')\n",
    "print(f'Ramicane lower outlier is {round(lower_rami,2)},and its upper outlier is {round(upper_rami,2)}.\\n')\n",
    "print(f'Infubinol lower outlier is {round(lower_infu,2)},and its upper outlier is {round(upper_infu,2)}.\\n')\n",
    "print(f'Ceftamin lower outlier is {round(lower_cef,2)},and its upper outlier is {round(upper_cef,2)}.')"
   ]
  },
  {
   "cell_type": "code",
   "execution_count": 21,
   "id": "0c7b22a0",
   "metadata": {},
   "outputs": [
    {
     "data": {
      "text/plain": [
       "(100, 8)"
      ]
     },
     "execution_count": 21,
     "metadata": {},
     "output_type": "execute_result"
    }
   ],
   "source": [
    "# Merge ALL df\n",
    "\n",
    "df_all = pd.concat([capomerge,ramimerge,infumerge,cefmerge], ignore_index=True)\n",
    "df_all.sample()\n",
    "df_all.shape #(100,8)"
   ]
  },
  {
   "cell_type": "markdown",
   "id": "d35a7a1d",
   "metadata": {},
   "source": [
    "#### Generating a box and whisker plot of the final tumor volume for all four treatment regimens to visualize potential outliers"
   ]
  },
  {
   "cell_type": "code",
   "execution_count": 22,
   "id": "c7078434",
   "metadata": {},
   "outputs": [
    {
     "data": {
      "image/png": "[encoded data removed]",
      "text/plain": [
       "<Figure size 720x720 with 1 Axes>"
      ]
     },
     "metadata": {
      "needs_background": "light"
     },
     "output_type": "display_data"
    }
   ],
   "source": [
    "fig = plt.figure(figsize=(10,10))\n",
    "sns.boxplot( x = 'Drug Regimen',y = 'Tumor Volume (mm3)', data = df_all)\n",
    "plt.show()"
   ]
  },
  {
   "cell_type": "code",
   "execution_count": 23,
   "id": "60e88095",
   "metadata": {},
   "outputs": [
    {
     "data": {
      "text/html": [
       "<div>\n",
       "<style scoped>\n",
       "    .dataframe tbody tr th:only-of-type {\n",
       "        vertical-align: middle;\n",
       "    }\n",
       "\n",
       "    .dataframe tbody tr th {\n",
       "        vertical-align: top;\n",
       "    }\n",
       "\n",
       "    .dataframe thead th {\n",
       "        text-align: right;\n",
       "    }\n",
       "</style>\n",
       "<table border=\"1\" class=\"dataframe\">\n",
       "  <thead>\n",
       "    <tr style=\"text-align: right;\">\n",
       "      <th></th>\n",
       "      <th>Mouse ID</th>\n",
       "      <th>Drug Regimen</th>\n",
       "      <th>Sex</th>\n",
       "      <th>Age_months</th>\n",
       "      <th>Weight (g)</th>\n",
       "      <th>Timepoint</th>\n",
       "      <th>Tumor Volume (mm3)</th>\n",
       "      <th>Metastatic Sites</th>\n",
       "    </tr>\n",
       "  </thead>\n",
       "  <tbody>\n",
       "    <tr>\n",
       "      <th>300</th>\n",
       "      <td>b128</td>\n",
       "      <td>Capomulin</td>\n",
       "      <td>Female</td>\n",
       "      <td>9</td>\n",
       "      <td>22</td>\n",
       "      <td>0</td>\n",
       "      <td>45.000000</td>\n",
       "      <td>0</td>\n",
       "    </tr>\n",
       "    <tr>\n",
       "      <th>301</th>\n",
       "      <td>b128</td>\n",
       "      <td>Capomulin</td>\n",
       "      <td>Female</td>\n",
       "      <td>9</td>\n",
       "      <td>22</td>\n",
       "      <td>5</td>\n",
       "      <td>45.651331</td>\n",
       "      <td>0</td>\n",
       "    </tr>\n",
       "    <tr>\n",
       "      <th>302</th>\n",
       "      <td>b128</td>\n",
       "      <td>Capomulin</td>\n",
       "      <td>Female</td>\n",
       "      <td>9</td>\n",
       "      <td>22</td>\n",
       "      <td>10</td>\n",
       "      <td>43.270852</td>\n",
       "      <td>0</td>\n",
       "    </tr>\n",
       "    <tr>\n",
       "      <th>303</th>\n",
       "      <td>b128</td>\n",
       "      <td>Capomulin</td>\n",
       "      <td>Female</td>\n",
       "      <td>9</td>\n",
       "      <td>22</td>\n",
       "      <td>15</td>\n",
       "      <td>43.784893</td>\n",
       "      <td>0</td>\n",
       "    </tr>\n",
       "    <tr>\n",
       "      <th>304</th>\n",
       "      <td>b128</td>\n",
       "      <td>Capomulin</td>\n",
       "      <td>Female</td>\n",
       "      <td>9</td>\n",
       "      <td>22</td>\n",
       "      <td>20</td>\n",
       "      <td>42.731552</td>\n",
       "      <td>0</td>\n",
       "    </tr>\n",
       "    <tr>\n",
       "      <th>305</th>\n",
       "      <td>b128</td>\n",
       "      <td>Capomulin</td>\n",
       "      <td>Female</td>\n",
       "      <td>9</td>\n",
       "      <td>22</td>\n",
       "      <td>25</td>\n",
       "      <td>43.262145</td>\n",
       "      <td>1</td>\n",
       "    </tr>\n",
       "    <tr>\n",
       "      <th>306</th>\n",
       "      <td>b128</td>\n",
       "      <td>Capomulin</td>\n",
       "      <td>Female</td>\n",
       "      <td>9</td>\n",
       "      <td>22</td>\n",
       "      <td>30</td>\n",
       "      <td>40.605335</td>\n",
       "      <td>1</td>\n",
       "    </tr>\n",
       "    <tr>\n",
       "      <th>307</th>\n",
       "      <td>b128</td>\n",
       "      <td>Capomulin</td>\n",
       "      <td>Female</td>\n",
       "      <td>9</td>\n",
       "      <td>22</td>\n",
       "      <td>35</td>\n",
       "      <td>37.967644</td>\n",
       "      <td>1</td>\n",
       "    </tr>\n",
       "    <tr>\n",
       "      <th>308</th>\n",
       "      <td>b128</td>\n",
       "      <td>Capomulin</td>\n",
       "      <td>Female</td>\n",
       "      <td>9</td>\n",
       "      <td>22</td>\n",
       "      <td>40</td>\n",
       "      <td>38.379726</td>\n",
       "      <td>2</td>\n",
       "    </tr>\n",
       "    <tr>\n",
       "      <th>309</th>\n",
       "      <td>b128</td>\n",
       "      <td>Capomulin</td>\n",
       "      <td>Female</td>\n",
       "      <td>9</td>\n",
       "      <td>22</td>\n",
       "      <td>45</td>\n",
       "      <td>38.982878</td>\n",
       "      <td>2</td>\n",
       "    </tr>\n",
       "  </tbody>\n",
       "</table>\n",
       "</div>"
      ],
      "text/plain": [
       "    Mouse ID Drug Regimen     Sex  Age_months  Weight (g)  Timepoint  \\\n",
       "300     b128    Capomulin  Female           9          22          0   \n",
       "301     b128    Capomulin  Female           9          22          5   \n",
       "302     b128    Capomulin  Female           9          22         10   \n",
       "303     b128    Capomulin  Female           9          22         15   \n",
       "304     b128    Capomulin  Female           9          22         20   \n",
       "305     b128    Capomulin  Female           9          22         25   \n",
       "306     b128    Capomulin  Female           9          22         30   \n",
       "307     b128    Capomulin  Female           9          22         35   \n",
       "308     b128    Capomulin  Female           9          22         40   \n",
       "309     b128    Capomulin  Female           9          22         45   \n",
       "\n",
       "     Tumor Volume (mm3)  Metastatic Sites  \n",
       "300           45.000000                 0  \n",
       "301           45.651331                 0  \n",
       "302           43.270852                 0  \n",
       "303           43.784893                 0  \n",
       "304           42.731552                 0  \n",
       "305           43.262145                 1  \n",
       "306           40.605335                 1  \n",
       "307           37.967644                 1  \n",
       "308           38.379726                 2  \n",
       "309           38.982878                 2  "
      ]
     },
     "execution_count": 23,
     "metadata": {},
     "output_type": "execute_result"
    }
   ],
   "source": [
    "b128 = df_capo[df_capo['Mouse ID'] == 'b128']\n",
    "b128"
   ]
  },
  {
   "cell_type": "markdown",
   "id": "b859af50",
   "metadata": {},
   "source": [
    "#### Selecting a mouse that was treated with Capomulin and generate a line plot of tumor volume vs. time point for that mouse."
   ]
  },
  {
   "cell_type": "code",
   "execution_count": 24,
   "id": "9727b513",
   "metadata": {},
   "outputs": [
    {
     "data": {
      "image/png": "[encoded data removed]",
      "text/plain": [
       "<Figure size 432x288 with 1 Axes>"
      ]
     },
     "metadata": {
      "needs_background": "light"
     },
     "output_type": "display_data"
    }
   ],
   "source": [
    "tp = b128['Timepoint']\n",
    "vol = b128['Tumor Volume (mm3)']\n",
    "\n",
    "plt.plot(tp,vol)\n",
    "plt.xlabel('Timepoint')\n",
    "plt.ylabel('Tumor Volume (mm3)')\n",
    "plt.title('Tumor volume vs. Timepoint')\n",
    "plt.show()"
   ]
  },
  {
   "cell_type": "markdown",
   "id": "cafeb6b6",
   "metadata": {},
   "source": [
    "#### Generate a scatter plot of mouse weight versus average tumor volume for the Capomulin treatment regimen."
   ]
  },
  {
   "cell_type": "code",
   "execution_count": 25,
   "id": "1b6dfab9",
   "metadata": {},
   "outputs": [
    {
     "data": {
      "image/png": "[encoded data removed]",
      "text/plain": [
       "<Figure size 432x288 with 1 Axes>"
      ]
     },
     "metadata": {
      "needs_background": "light"
     },
     "output_type": "display_data"
    }
   ],
   "source": [
    "avg_vol = df_capo.groupby(['Mouse ID']).mean()\n",
    "\n",
    "# plt.scatter(avg_vol['Weight (g)'],avg_vol['Tumor Volume (mm3)'])\n",
    "\n",
    "plt.plot(avg_vol['Weight (g)'],avg_vol['Tumor Volume (mm3)'],'go')\n",
    "plt.show()"
   ]
  },
  {
   "cell_type": "markdown",
   "id": "bf51a36d",
   "metadata": {},
   "source": [
    "#### Finding correlation coefficient and linear regression model between mouse weight and average tumor volume for the Capomulin treatment. \n",
    "\n",
    "#### Plotting the linear regression model on top of the previous scatter plot."
   ]
  },
  {
   "cell_type": "code",
   "execution_count": 26,
   "id": "7a93df40",
   "metadata": {},
   "outputs": [
    {
     "name": "stdout",
     "output_type": "stream",
     "text": [
      "The correlation coefficient is 0.84\n"
     ]
    },
    {
     "data": {
      "text/plain": [
       "Text(16, 46, 'y = 21.552 + 0.954x')"
      ]
     },
     "execution_count": 26,
     "metadata": {},
     "output_type": "execute_result"
    },
    {
     "data": {
      "image/png": "[encoded data removed]",
      "text/plain": [
       "<Figure size 432x288 with 1 Axes>"
      ]
     },
     "metadata": {
      "needs_background": "light"
     },
     "output_type": "display_data"
    }
   ],
   "source": [
    "plt.title('Mouse weight and average tumor volume')\n",
    "reg = sns.regplot(x='Weight (g)', y='Tumor Volume (mm3)', data=avg_vol)\n",
    "\n",
    "corr = avg_vol['Tumor Volume (mm3)'].corr(avg_vol['Weight (g)'])\n",
    "print('The correlation coefficient is {}'.format(round(corr,2)))\n",
    "\n",
    "slope, intercept, r, reg, sterr = scipy.stats.linregress(x=reg.get_lines()[0].get_xdata(),\n",
    "                                                       y=reg.get_lines()[0].get_ydata())\n",
    "\n",
    "#add regression equation to plot\n",
    "plt.text(16,46,'y = ' + str(round(intercept,3)) + ' + ' + str(round(slope,3)) + 'x',\n",
    "        fontsize = 12,bbox = dict(facecolor = 'red', alpha = 0.5))\n"
   ]
  },
  {
   "cell_type": "markdown",
   "id": "05da1aa7",
   "metadata": {},
   "source": [
    "### Observations and Inferences:\n",
    "\n",
    "1. Balanced gender population of mouse\n",
    "2. Ramicane and Capomulane are more effective  to treat tumor\n",
    "3. There's a high correlation between mouse weight and average tumor volume.\n",
    "4. Interestingly, tumor volume increases after about timepoint 33, after a sharp reduction from around timepoint 24"
   ]
  }
 ],
 "metadata": {
  "kernelspec": {
   "display_name": "Python 3 (ipykernel)",
   "language": "python",
   "name": "python3"
  },
  "language_info": {
   "codemirror_mode": {
    "name": "ipython",
    "version": 3
   },
   "file_extension": ".py",
   "mimetype": "text/x-python",
   "name": "python",
   "nbconvert_exporter": "python",
   "pygments_lexer": "ipython3",
   "version": "3.8.13"
  }
 },
 "nbformat": 4,
 "nbformat_minor": 5
}
